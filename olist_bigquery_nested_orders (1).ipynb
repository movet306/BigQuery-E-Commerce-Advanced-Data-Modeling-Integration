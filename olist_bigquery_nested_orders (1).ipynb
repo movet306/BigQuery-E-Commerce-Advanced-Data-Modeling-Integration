{
 "cells": [
  {
   "cell_type": "code",
   "execution_count": 64,
   "id": "930c34a0-9355-4c00-bedf-dfab521c8709",
   "metadata": {},
   "outputs": [],
   "source": [
    "import pandas as pd\n",
    "import json"
   ]
  },
  {
   "cell_type": "code",
   "execution_count": 65,
   "id": "9742c92a-9cc9-438e-a766-4377ab77202a",
   "metadata": {},
   "outputs": [],
   "source": [
    "orders = pd.read_csv(\"olist_orders_dataset.csv\")\n",
    "order_items = pd.read_csv(\"olist_order_items_dataset.csv\")\n",
    "customers = pd.read_csv(\"olist_customers_dataset.csv\")"
   ]
  },
  {
   "cell_type": "code",
   "execution_count": 66,
   "id": "7c8f7bf3-f053-4aaf-bb72-e0278e6d1e8b",
   "metadata": {},
   "outputs": [
    {
     "data": {
      "text/plain": [
       "(                           order_id                       customer_id  \\\n",
       " 0  e481f51cbdc54678b7cc49136f2d6af7  9ef432eb6251297304e76186b10a928d   \n",
       " 1  53cdb2fc8bc7dce0b6741e2150273451  b0830fb4747a6c6d20dea0b8c802d7ef   \n",
       " 2  47770eb9100c2d0c44946d9cf07ec65d  41ce2a54c0b03bf3443c3d931a367089   \n",
       " 3  949d5b44dbf5de918fe9c16f97b45f8a  f88197465ea7920adcdbec7375364d82   \n",
       " 4  ad21c59c0840e6cb83a9ceb5573f8159  8ab97904e6daea8866dbdbc4fb7aad2c   \n",
       " \n",
       "   order_status order_purchase_timestamp    order_approved_at  \\\n",
       " 0    delivered      2017-10-02 10:56:33  2017-10-02 11:07:15   \n",
       " 1    delivered      2018-07-24 20:41:37  2018-07-26 03:24:27   \n",
       " 2    delivered      2018-08-08 08:38:49  2018-08-08 08:55:23   \n",
       " 3    delivered      2017-11-18 19:28:06  2017-11-18 19:45:59   \n",
       " 4    delivered      2018-02-13 21:18:39  2018-02-13 22:20:29   \n",
       " \n",
       "   order_delivered_carrier_date order_delivered_customer_date  \\\n",
       " 0          2017-10-04 19:55:00           2017-10-10 21:25:13   \n",
       " 1          2018-07-26 14:31:00           2018-08-07 15:27:45   \n",
       " 2          2018-08-08 13:50:00           2018-08-17 18:06:29   \n",
       " 3          2017-11-22 13:39:59           2017-12-02 00:28:42   \n",
       " 4          2018-02-14 19:46:34           2018-02-16 18:17:02   \n",
       " \n",
       "   order_estimated_delivery_date  \n",
       " 0           2017-10-18 00:00:00  \n",
       " 1           2018-08-13 00:00:00  \n",
       " 2           2018-09-04 00:00:00  \n",
       " 3           2017-12-15 00:00:00  \n",
       " 4           2018-02-26 00:00:00  ,\n",
       "                            order_id  order_item_id  \\\n",
       " 0  00010242fe8c5a6d1ba2dd792cb16214              1   \n",
       " 1  00018f77f2f0320c557190d7a144bdd3              1   \n",
       " 2  000229ec398224ef6ca0657da4fc703e              1   \n",
       " 3  00024acbcdf0a6daa1e931b038114c75              1   \n",
       " 4  00042b26cf59d7ce69dfabb4e55b4fd9              1   \n",
       " \n",
       "                          product_id                         seller_id  \\\n",
       " 0  4244733e06e7ecb4970a6e2683c13e61  48436dade18ac8b2bce089ec2a041202   \n",
       " 1  e5f2d52b802189ee658865ca93d83a8f  dd7ddc04e1b6c2c614352b383efe2d36   \n",
       " 2  c777355d18b72b67abbeef9df44fd0fd  5b51032eddd242adc84c38acab88f23d   \n",
       " 3  7634da152a4610f1595efa32f14722fc  9d7a1d34a5052409006425275ba1c2b4   \n",
       " 4  ac6c3623068f30de03045865e4e10089  df560393f3a51e74553ab94004ba5c87   \n",
       " \n",
       "    shipping_limit_date   price  freight_value  \n",
       " 0  2017-09-19 09:45:35   58.90          13.29  \n",
       " 1  2017-05-03 11:05:13  239.90          19.93  \n",
       " 2  2018-01-18 14:48:30  199.00          17.87  \n",
       " 3  2018-08-15 10:10:18   12.99          12.79  \n",
       " 4  2017-02-13 13:57:51  199.90          18.14  ,\n",
       "                         customer_id                customer_unique_id  \\\n",
       " 0  06b8999e2fba1a1fbc88172c00ba8bc7  861eff4711a542e4b93843c6dd7febb0   \n",
       " 1  18955e83d337fd6b2def6b18a428ac77  290c77bc529b7ac935b93aa66c333dc3   \n",
       " 2  4e7b3e00288586ebd08712fdd0374a03  060e732b5b29e8181a18229c7b0b2b5e   \n",
       " 3  b2b6027bc5c5109e529d4dc6358b12c3  259dac757896d24d7702b9acbbff3f3c   \n",
       " 4  4f2d8ab171c80ec8364f7c12e35b23ad  345ecd01c38d18a9036ed96c73b8d066   \n",
       " \n",
       "    customer_zip_code_prefix          customer_city customer_state  \n",
       " 0                     14409                 franca             SP  \n",
       " 1                      9790  sao bernardo do campo             SP  \n",
       " 2                      1151              sao paulo             SP  \n",
       " 3                      8775        mogi das cruzes             SP  \n",
       " 4                     13056               campinas             SP  )"
      ]
     },
     "execution_count": 66,
     "metadata": {},
     "output_type": "execute_result"
    }
   ],
   "source": [
    "orders.head(), order_items.head(), customers.head()"
   ]
  },
  {
   "cell_type": "code",
   "execution_count": 67,
   "id": "8667b5d8-883e-4add-85e2-96dedfccf5b6",
   "metadata": {},
   "outputs": [],
   "source": [
    "def make_customer(order_id):\n",
    "    cust_id = orders.loc[orders[\"order_id\"] == order_id, \"customer_id\"].values[0]\n",
    "    cust_row = customers[customers[\"customer_id\"] == cust_id]\n",
    "    if not cust_row.empty:\n",
    "        return {\n",
    "            \"customer_id\": cust_id,\n",
    "            \"city\": cust_row[\"customer_city\"].values[0],\n",
    "            \"state\": cust_row[\"customer_state\"].values[0]\n",
    "        }\n",
    "    else:\n",
    "        return {\"customer_id\": cust_id, \"city\": None, \"state\": None}\n"
   ]
  },
  {
   "cell_type": "code",
   "execution_count": 68,
   "id": "7b78bc08-d7b2-4419-ac29-8f7380e7fafd",
   "metadata": {},
   "outputs": [
    {
     "name": "stdout",
     "output_type": "stream",
     "text": [
      "[{'product_id': '4244733e06e7ecb4970a6e2683c13e61', 'product_name': 'unknown', 'quantity': 1, 'price': 58.9, 'product_features': '{\"product_id\": \"4244733e06e7ecb4970a6e2683c13e61\", \"seller_id\": \"48436dade18ac8b2bce089ec2a041202\"}'}]\n"
     ]
    }
   ],
   "source": [
    "import json\n",
    "\n",
    "def make_order_items(order_id):\n",
    "    items = order_items[order_items[\"order_id\"] == order_id]\n",
    "    item_list = []\n",
    "    for _, row in items.iterrows():\n",
    "        features = {\n",
    "            \"product_id\": row[\"product_id\"],\n",
    "            \"seller_id\": row[\"seller_id\"]\n",
    "        }\n",
    "        item_struct = {\n",
    "            \"product_id\": row[\"product_id\"],\n",
    "            \"product_name\": \"unknown\",\n",
    "            \"quantity\": 1,\n",
    "            \"price\": float(row[\"price\"]),\n",
    "            \"product_features\": json.dumps(features)\n",
    "        }\n",
    "        item_list.append(item_struct)\n",
    "    return item_list\n",
    "\n",
    "\n",
    "example_order_id = order_items[\"order_id\"].iloc[0]   \n",
    "result = make_order_items(example_order_id)\n",
    "print(result)"
   ]
  },
  {
   "cell_type": "code",
   "execution_count": 69,
   "id": "c30a2fb8-2ab0-4420-b87c-b1b378f42fd2",
   "metadata": {},
   "outputs": [],
   "source": [
    "def make_campaign_details():\n",
    "    campaigns = [\n",
    "        {\"coupon_code\": \"WELCOME10\", \"discount\": 10.0, \"channel\": \"web\"},\n",
    "        {\"coupon_code\": \"SUMMER20\", \"discount\": 20.0, \"channel\": \"mobile\"},\n",
    "        {}\n",
    "    ]\n",
    "    return json.dumps(random.choice(campaigns))"
   ]
  },
  {
   "cell_type": "code",
   "execution_count": 70,
   "id": "581ebe93-2d64-4448-b51a-44c0e15931e1",
   "metadata": {},
   "outputs": [],
   "source": [
    "json_records = order_items.to_dict(orient=\"records\")\n",
    "with open(\"order_items_ndjson.json\", \"w\", encoding=\"utf-8\") as f:\n",
    "    for rec in json_records:\n",
    "        f.write(json.dumps(rec) + \"\\n\")"
   ]
  },
  {
   "cell_type": "code",
   "execution_count": 71,
   "id": "61398ea9-38ad-467c-aaa5-b7bb680e07eb",
   "metadata": {},
   "outputs": [],
   "source": [
    "import numpy as np\n",
    "order_items['campaign'] = np.random.choice(len(campaigns), size=len(order_items))\n",
    "order_items['campaign_details'] = order_items['campaign'].apply(lambda i: campaigns[i])"
   ]
  },
  {
   "cell_type": "code",
   "execution_count": 72,
   "id": "8da52006-e4c5-4e21-8254-f4ece9556ea0",
   "metadata": {},
   "outputs": [],
   "source": [
    "order_items['campaign_details'] = order_items['campaign'].apply(lambda i: campaigns[i])"
   ]
  },
  {
   "cell_type": "code",
   "execution_count": null,
   "id": "9f90b933-2500-459c-b5e8-de51bf0c27a4",
   "metadata": {},
   "outputs": [],
   "source": [
    "grouped_items = order_items.groupby(\"order_id\").apply(lambda x: x.to_dict(orient=\"records\")).to_dict()\n",
    "\n",
    "customer_map = customers.set_index(\"customer_id\")[[\"customer_city\", \"customer_state\"]].to_dict(orient=\"index\")\n",
    "order_to_customer = orders.set_index(\"order_id\")[\"customer_id\"].to_dict()\n",
    "\n",
    "import random, json\n",
    "full_data = []\n",
    "for idx, row in orders.iterrows():\n",
    "    order_id = row[\"order_id\"]\n",
    "    customer_id = order_to_customer[order_id]\n",
    "    cust_info = customer_map.get(customer_id, {\"customer_city\": None, \"customer_state\": None})\n",
    "    record = {\n",
    "        \"order_id\": order_id,\n",
    "        \"order_timestamp\": row[\"order_purchase_timestamp\"],\n",
    "        \"customer\": {\n",
    "            \"customer_id\": customer_id,\n",
    "            \"city\": cust_info[\"customer_city\"],\n",
    "            \"state\": cust_info[\"customer_state\"]\n",
    "        },\n",
    "        \"order_items\": grouped_items.get(order_id, []),\n",
    "        \"campaign_details\": random.choice([\n",
    "            {\"coupon_code\": \"WELCOME10\", \"discount\": 10.0, \"channel\": \"web\"},\n",
    "            {\"coupon_code\": \"SUMMER20\", \"discount\": 20.0, \"channel\": \"mobile\"},\n",
    "            {}\n",
    "        ]),\n",
    "        \"order_status\": row[\"order_status\"]\n",
    "    }\n",
    "    full_data.append(record)\n",
    "\n",
    "with open(\"olist_bigquery_nested_orders.json\", \"w\", encoding=\"utf-8\") as f:\n",
    "    for rec in full_data:\n",
    "        f.write(json.dumps(rec) + \"\\n\")"
   ]
  },
  {
   "cell_type": "code",
   "execution_count": null,
   "id": "c3a3a2de-ff46-4d47-ae0c-321516df2282",
   "metadata": {},
   "outputs": [],
   "source": [
    "with open(\"olist_bigquery_nested_orders.json\", \"r\", encoding=\"utf-8\") as f:\n",
    "    for i in range(5):  \n",
    "        print(f.readline())"
   ]
  },
  {
   "cell_type": "code",
   "execution_count": null,
   "id": "3f6192f2-128f-4b04-aa15-9b96c5793277",
   "metadata": {},
   "outputs": [],
   "source": [
    "import json\n",
    "\n",
    "def convert_values_to_str(obj):\n",
    "    if isinstance(obj, dict):\n",
    "        return {k: convert_values_to_str(v) for k, v in obj.items()}\n",
    "    elif isinstance(obj, list):\n",
    "        return [convert_values_to_str(elem) for elem in obj]\n",
    "    elif isinstance(obj, int):\n",
    "        return str(obj)\n",
    "    else:\n",
    "        return obj\n",
    "\n",
    "with open(\"olist_bigquery_nested_orders.json\", \"w\", encoding=\"utf-8\") as f:\n",
    "    for rec in full_data:\n",
    "        rec_clean = convert_values_to_str(rec)\n",
    "        f.write(json.dumps(rec_clean) + \"\\n\")\n"
   ]
  },
  {
   "cell_type": "code",
   "execution_count": null,
   "id": "580f8c64-b463-41ec-b0c9-088aff5a4338",
   "metadata": {},
   "outputs": [],
   "source": [
    "orders.to_json(\"output.json\", orient=\"records\", lines=True)\n",
    "order_items.to_json(\"output.json\", orient=\"records\", lines=True)\n",
    "customers.to_json(\"output.json\", orient=\"records\", lines=True)\n",
    "\n"
   ]
  }
 ],
 "metadata": {
  "kernelspec": {
   "display_name": "Python [conda env:base] *",
   "language": "python",
   "name": "conda-base-py"
  },
  "language_info": {
   "codemirror_mode": {
    "name": "ipython",
    "version": 3
   },
   "file_extension": ".py",
   "mimetype": "text/x-python",
   "name": "python",
   "nbconvert_exporter": "python",
   "pygments_lexer": "ipython3",
   "version": "3.12.7"
  }
 },
 "nbformat": 4,
 "nbformat_minor": 5
}
