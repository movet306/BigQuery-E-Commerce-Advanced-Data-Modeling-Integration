{
 "cells": [
  {
   "cell_type": "code",
   "execution_count": 6,
   "id": "930c34a0-9355-4c00-bedf-dfab521c8709",
   "metadata": {},
   "outputs": [],
   "source": [
    "import pandas as pd\n",
    "import json"
   ]
  },
  {
   "cell_type": "code",
   "execution_count": 7,
   "id": "9742c92a-9cc9-438e-a766-4377ab77202a",
   "metadata": {},
   "outputs": [],
   "source": [
    "orders = pd.read_csv(\"olist_orders_dataset.csv\")\n",
    "order_items = pd.read_csv(\"olist_order_items_dataset.csv\")\n",
    "customers = pd.read_csv(\"olist_customers_dataset.csv\")"
   ]
  },
  {
   "cell_type": "code",
   "execution_count": 18,
   "id": "7c8f7bf3-f053-4aaf-bb72-e0278e6d1e8b",
   "metadata": {},
   "outputs": [
    {
     "data": {
      "text/plain": [
       "(                           order_id                       customer_id  \\\n",
       " 0  e481f51cbdc54678b7cc49136f2d6af7  9ef432eb6251297304e76186b10a928d   \n",
       " 1  53cdb2fc8bc7dce0b6741e2150273451  b0830fb4747a6c6d20dea0b8c802d7ef   \n",
       " 2  47770eb9100c2d0c44946d9cf07ec65d  41ce2a54c0b03bf3443c3d931a367089   \n",
       " 3  949d5b44dbf5de918fe9c16f97b45f8a  f88197465ea7920adcdbec7375364d82   \n",
       " 4  ad21c59c0840e6cb83a9ceb5573f8159  8ab97904e6daea8866dbdbc4fb7aad2c   \n",
       " \n",
       "   order_status order_purchase_timestamp    order_approved_at  \\\n",
       " 0    delivered      2017-10-02 10:56:33  2017-10-02 11:07:15   \n",
       " 1    delivered      2018-07-24 20:41:37  2018-07-26 03:24:27   \n",
       " 2    delivered      2018-08-08 08:38:49  2018-08-08 08:55:23   \n",
       " 3    delivered      2017-11-18 19:28:06  2017-11-18 19:45:59   \n",
       " 4    delivered      2018-02-13 21:18:39  2018-02-13 22:20:29   \n",
       " \n",
       "   order_delivered_carrier_date order_delivered_customer_date  \\\n",
       " 0          2017-10-04 19:55:00           2017-10-10 21:25:13   \n",
       " 1          2018-07-26 14:31:00           2018-08-07 15:27:45   \n",
       " 2          2018-08-08 13:50:00           2018-08-17 18:06:29   \n",
       " 3          2017-11-22 13:39:59           2017-12-02 00:28:42   \n",
       " 4          2018-02-14 19:46:34           2018-02-16 18:17:02   \n",
       " \n",
       "   order_estimated_delivery_date  \n",
       " 0           2017-10-18 00:00:00  \n",
       " 1           2018-08-13 00:00:00  \n",
       " 2           2018-09-04 00:00:00  \n",
       " 3           2017-12-15 00:00:00  \n",
       " 4           2018-02-26 00:00:00  ,\n",
       "                            order_id  order_item_id  \\\n",
       " 0  00010242fe8c5a6d1ba2dd792cb16214              1   \n",
       " 1  00018f77f2f0320c557190d7a144bdd3              1   \n",
       " 2  000229ec398224ef6ca0657da4fc703e              1   \n",
       " 3  00024acbcdf0a6daa1e931b038114c75              1   \n",
       " 4  00042b26cf59d7ce69dfabb4e55b4fd9              1   \n",
       " \n",
       "                          product_id                         seller_id  \\\n",
       " 0  4244733e06e7ecb4970a6e2683c13e61  48436dade18ac8b2bce089ec2a041202   \n",
       " 1  e5f2d52b802189ee658865ca93d83a8f  dd7ddc04e1b6c2c614352b383efe2d36   \n",
       " 2  c777355d18b72b67abbeef9df44fd0fd  5b51032eddd242adc84c38acab88f23d   \n",
       " 3  7634da152a4610f1595efa32f14722fc  9d7a1d34a5052409006425275ba1c2b4   \n",
       " 4  ac6c3623068f30de03045865e4e10089  df560393f3a51e74553ab94004ba5c87   \n",
       " \n",
       "    shipping_limit_date   price  freight_value  \n",
       " 0  2017-09-19 09:45:35   58.90          13.29  \n",
       " 1  2017-05-03 11:05:13  239.90          19.93  \n",
       " 2  2018-01-18 14:48:30  199.00          17.87  \n",
       " 3  2018-08-15 10:10:18   12.99          12.79  \n",
       " 4  2017-02-13 13:57:51  199.90          18.14  ,\n",
       "                         customer_id                customer_unique_id  \\\n",
       " 0  06b8999e2fba1a1fbc88172c00ba8bc7  861eff4711a542e4b93843c6dd7febb0   \n",
       " 1  18955e83d337fd6b2def6b18a428ac77  290c77bc529b7ac935b93aa66c333dc3   \n",
       " 2  4e7b3e00288586ebd08712fdd0374a03  060e732b5b29e8181a18229c7b0b2b5e   \n",
       " 3  b2b6027bc5c5109e529d4dc6358b12c3  259dac757896d24d7702b9acbbff3f3c   \n",
       " 4  4f2d8ab171c80ec8364f7c12e35b23ad  345ecd01c38d18a9036ed96c73b8d066   \n",
       " \n",
       "    customer_zip_code_prefix          customer_city customer_state  \n",
       " 0                     14409                 franca             SP  \n",
       " 1                      9790  sao bernardo do campo             SP  \n",
       " 2                      1151              sao paulo             SP  \n",
       " 3                      8775        mogi das cruzes             SP  \n",
       " 4                     13056               campinas             SP  )"
      ]
     },
     "execution_count": 18,
     "metadata": {},
     "output_type": "execute_result"
    }
   ],
   "source": [
    "orders.head(), order_items.head(), customers.head()"
   ]
  },
  {
   "cell_type": "code",
   "execution_count": 19,
   "id": "8667b5d8-883e-4add-85e2-96dedfccf5b6",
   "metadata": {},
   "outputs": [],
   "source": [
    "def make_customer(order_id):\n",
    "    cust_id = orders.loc[orders[\"order_id\"] == order_id, \"customer_id\"].values[0]\n",
    "    cust_row = customers[customers[\"customer_id\"] == cust_id]\n",
    "    if not cust_row.empty:\n",
    "        return {\n",
    "            \"customer_id\": cust_id,\n",
    "            \"city\": cust_row[\"customer_city\"].values[0],\n",
    "            \"state\": cust_row[\"customer_state\"].values[0]\n",
    "        }\n",
    "    else:\n",
    "        return {\"customer_id\": cust_id, \"city\": None, \"state\": None}\n"
   ]
  },
  {
   "cell_type": "code",
   "execution_count": 20,
   "id": "7b78bc08-d7b2-4419-ac29-8f7380e7fafd",
   "metadata": {},
   "outputs": [
    {
     "name": "stdout",
     "output_type": "stream",
     "text": [
      "[{'product_id': '4244733e06e7ecb4970a6e2683c13e61', 'product_name': 'unknown', 'quantity': 1, 'price': 58.9, 'product_features': '{\"product_id\": \"4244733e06e7ecb4970a6e2683c13e61\", \"seller_id\": \"48436dade18ac8b2bce089ec2a041202\"}'}]\n"
     ]
    }
   ],
   "source": [
    "import json\n",
    "\n",
    "def make_order_items(order_id):\n",
    "    items = order_items[order_items[\"order_id\"] == order_id]\n",
    "    item_list = []\n",
    "    for _, row in items.iterrows():\n",
    "        features = {\n",
    "            \"product_id\": row[\"product_id\"],\n",
    "            \"seller_id\": row[\"seller_id\"]\n",
    "        }\n",
    "        item_struct = {\n",
    "            \"product_id\": row[\"product_id\"],\n",
    "            \"product_name\": \"unknown\",\n",
    "            \"quantity\": 1,\n",
    "            \"price\": float(row[\"price\"]),\n",
    "            \"product_features\": json.dumps(features)\n",
    "        }\n",
    "        item_list.append(item_struct)\n",
    "    return item_list\n",
    "\n",
    "# Fonksiyonu tanımladıktan sonra:\n",
    "example_order_id = order_items[\"order_id\"].iloc[0]   # örneğin ilk order_id'yi seç\n",
    "result = make_order_items(example_order_id)\n",
    "print(result)"
   ]
  },
  {
   "cell_type": "code",
   "execution_count": 11,
   "id": "1b01633b-b0c1-431c-aeec-8266d048ecaa",
   "metadata": {},
   "outputs": [
    {
     "name": "stdout",
     "output_type": "stream",
     "text": [
      "[{'product_id': '4244733e06e7ecb4970a6e2683c13e61', 'product_name': 'unknown', 'quantity': 1, 'price': 58.9, 'product_features': '{\"product_id\": \"4244733e06e7ecb4970a6e2683c13e61\", \"seller_id\": \"48436dade18ac8b2bce089ec2a041202\"}'}]\n"
     ]
    }
   ],
   "source": [
    "import json\n",
    "\n",
    "def make_order_items(order_id):\n",
    "    items = order_items[order_items[\"order_id\"] == order_id]\n",
    "    item_list = []\n",
    "    for _, row in items.iterrows():\n",
    "        features = {\n",
    "            \"product_id\": row[\"product_id\"],\n",
    "            \"seller_id\": row[\"seller_id\"]\n",
    "        }\n",
    "        item_struct = {\n",
    "            \"product_id\": row[\"product_id\"],\n",
    "            \"product_name\": \"unknown\",\n",
    "            \"quantity\": 1,\n",
    "            \"price\": float(row[\"price\"]),\n",
    "            \"product_features\": json.dumps(features)\n",
    "        }\n",
    "        item_list.append(item_struct)\n",
    "    return item_list\n",
    "\n",
    "# Fonksiyonu tanımladıktan sonra:\n",
    "example_order_id = order_items[\"order_id\"].iloc[0]   # örneğin ilk order_id'yi seç\n",
    "result = make_order_items(example_order_id)\n",
    "print(result)"
   ]
  },
  {
   "cell_type": "markdown",
   "id": "0054ee96-0262-4249-bcd5-8e85e43342fd",
   "metadata": {},
   "source": [
    "Ne yapıyor?\n",
    "\n",
    "“olist_order_items_dataset” tablosundan, sadece ilgili order_id’ye ait satırları (yani bu siparişteki ürünleri) filtreliyor.\n",
    "\n",
    "Yani: Sipariş “ORD123” ise, ORD123 ile ilgili tüm ürünler bu items değişkeninde."
   ]
  },
  {
   "cell_type": "markdown",
   "id": "2d79e5c6-a131-43db-9b5b-aba5a2784944",
   "metadata": {},
   "source": [
    "Ne yapıyor?\n",
    "\n",
    "Sonuçta oluşturacağımız array/list, yani bu siparişteki tüm ürünler burada birikecek."
   ]
  },
  {
   "cell_type": "code",
   "execution_count": 21,
   "id": "c30a2fb8-2ab0-4420-b87c-b1b378f42fd2",
   "metadata": {},
   "outputs": [],
   "source": [
    "def make_campaign_details():\n",
    "    campaigns = [\n",
    "        {\"coupon_code\": \"WELCOME10\", \"discount\": 10.0, \"channel\": \"web\"},\n",
    "        {\"coupon_code\": \"SUMMER20\", \"discount\": 20.0, \"channel\": \"mobile\"},\n",
    "        {}\n",
    "    ]\n",
    "    return json.dumps(random.choice(campaigns))"
   ]
  },
  {
   "cell_type": "code",
   "execution_count": 22,
   "id": "581ebe93-2d64-4448-b51a-44c0e15931e1",
   "metadata": {},
   "outputs": [],
   "source": [
    "json_records = order_items.to_dict(orient=\"records\")\n",
    "with open(\"order_items_ndjson.json\", \"w\", encoding=\"utf-8\") as f:\n",
    "    for rec in json_records:\n",
    "        f.write(json.dumps(rec) + \"\\n\")"
   ]
  },
  {
   "cell_type": "code",
   "execution_count": 24,
   "id": "61398ea9-38ad-467c-aaa5-b7bb680e07eb",
   "metadata": {},
   "outputs": [],
   "source": [
    "import numpy as np\n",
    "order_items['campaign'] = np.random.choice(len(campaigns), size=len(order_items))\n",
    "order_items['campaign_details'] = order_items['campaign'].apply(lambda i: campaigns[i])"
   ]
  },
  {
   "cell_type": "code",
   "execution_count": 25,
   "id": "8da52006-e4c5-4e21-8254-f4ece9556ea0",
   "metadata": {},
   "outputs": [],
   "source": [
    "order_items['campaign_details'] = order_items['campaign'].apply(lambda i: campaigns[i])"
   ]
  },
  {
   "cell_type": "code",
   "execution_count": 27,
   "id": "9f90b933-2500-459c-b5e8-de51bf0c27a4",
   "metadata": {},
   "outputs": [
    {
     "name": "stderr",
     "output_type": "stream",
     "text": [
      "C:\\Users\\ASUS\\AppData\\Local\\Temp\\ipykernel_31460\\414359236.py:2: DeprecationWarning: DataFrameGroupBy.apply operated on the grouping columns. This behavior is deprecated, and in a future version of pandas the grouping columns will be excluded from the operation. Either pass `include_groups=False` to exclude the groupings or explicitly select the grouping columns after groupby to silence this warning.\n",
      "  grouped_items = order_items.groupby(\"order_id\").apply(lambda x: x.to_dict(orient=\"records\")).to_dict()\n"
     ]
    }
   ],
   "source": [
    "# 1. Order_items'ı order_id'ye göre grupla (dict ile)\n",
    "grouped_items = order_items.groupby(\"order_id\").apply(lambda x: x.to_dict(orient=\"records\")).to_dict()\n",
    "\n",
    "# 2. Order ve customer mapping'i baştan hazırla (lookup dict)\n",
    "customer_map = customers.set_index(\"customer_id\")[[\"customer_city\", \"customer_state\"]].to_dict(orient=\"index\")\n",
    "order_to_customer = orders.set_index(\"order_id\")[\"customer_id\"].to_dict()\n",
    "\n",
    "# 3. Master nested JSON kaydı\n",
    "import random, json\n",
    "full_data = []\n",
    "for idx, row in orders.iterrows():\n",
    "    order_id = row[\"order_id\"]\n",
    "    customer_id = order_to_customer[order_id]\n",
    "    cust_info = customer_map.get(customer_id, {\"customer_city\": None, \"customer_state\": None})\n",
    "    record = {\n",
    "        \"order_id\": order_id,\n",
    "        \"order_timestamp\": row[\"order_purchase_timestamp\"],\n",
    "        \"customer\": {\n",
    "            \"customer_id\": customer_id,\n",
    "            \"city\": cust_info[\"customer_city\"],\n",
    "            \"state\": cust_info[\"customer_state\"]\n",
    "        },\n",
    "        \"order_items\": grouped_items.get(order_id, []),\n",
    "        \"campaign_details\": random.choice([\n",
    "            {\"coupon_code\": \"WELCOME10\", \"discount\": 10.0, \"channel\": \"web\"},\n",
    "            {\"coupon_code\": \"SUMMER20\", \"discount\": 20.0, \"channel\": \"mobile\"},\n",
    "            {}\n",
    "        ]),\n",
    "        \"order_status\": row[\"order_status\"]\n",
    "    }\n",
    "    full_data.append(record)\n",
    "\n",
    "with open(\"olist_bigquery_nested_orders.json\", \"w\", encoding=\"utf-8\") as f:\n",
    "    for rec in full_data:\n",
    "        f.write(json.dumps(rec) + \"\\n\")"
   ]
  },
  {
   "cell_type": "code",
   "execution_count": 28,
   "id": "c3a3a2de-ff46-4d47-ae0c-321516df2282",
   "metadata": {},
   "outputs": [
    {
     "name": "stdout",
     "output_type": "stream",
     "text": [
      "{\"order_id\": \"e481f51cbdc54678b7cc49136f2d6af7\", \"order_timestamp\": \"2017-10-02 10:56:33\", \"customer\": {\"customer_id\": \"9ef432eb6251297304e76186b10a928d\", \"city\": \"sao paulo\", \"state\": \"SP\"}, \"order_items\": [{\"order_id\": \"e481f51cbdc54678b7cc49136f2d6af7\", \"order_item_id\": 1, \"product_id\": \"87285b34884572647811a353c7ac498a\", \"seller_id\": \"3504c0cb71d7fa48d967e0e4c94d59d9\", \"shipping_limit_date\": \"2017-10-06 11:07:15\", \"price\": 29.99, \"freight_value\": 8.72, \"campaign\": 1, \"campaign_details\": {\"coupon_code\": \"SUMMER20\", \"discount\": 20.0, \"channel\": \"mobile\"}}], \"campaign_details\": {\"coupon_code\": \"SUMMER20\", \"discount\": 20.0, \"channel\": \"mobile\"}, \"order_status\": \"delivered\"}\n",
      "\n",
      "{\"order_id\": \"53cdb2fc8bc7dce0b6741e2150273451\", \"order_timestamp\": \"2018-07-24 20:41:37\", \"customer\": {\"customer_id\": \"b0830fb4747a6c6d20dea0b8c802d7ef\", \"city\": \"barreiras\", \"state\": \"BA\"}, \"order_items\": [{\"order_id\": \"53cdb2fc8bc7dce0b6741e2150273451\", \"order_item_id\": 1, \"product_id\": \"595fac2a385ac33a80bd5114aec74eb8\", \"seller_id\": \"289cdb325fb7e7f891c38608bf9e0962\", \"shipping_limit_date\": \"2018-07-30 03:24:27\", \"price\": 118.7, \"freight_value\": 22.76, \"campaign\": 1, \"campaign_details\": {\"coupon_code\": \"SUMMER20\", \"discount\": 20.0, \"channel\": \"mobile\"}}], \"campaign_details\": {\"coupon_code\": \"SUMMER20\", \"discount\": 20.0, \"channel\": \"mobile\"}, \"order_status\": \"delivered\"}\n",
      "\n",
      "{\"order_id\": \"47770eb9100c2d0c44946d9cf07ec65d\", \"order_timestamp\": \"2018-08-08 08:38:49\", \"customer\": {\"customer_id\": \"41ce2a54c0b03bf3443c3d931a367089\", \"city\": \"vianopolis\", \"state\": \"GO\"}, \"order_items\": [{\"order_id\": \"47770eb9100c2d0c44946d9cf07ec65d\", \"order_item_id\": 1, \"product_id\": \"aa4383b373c6aca5d8797843e5594415\", \"seller_id\": \"4869f7a5dfa277a7dca6462dcf3b52b2\", \"shipping_limit_date\": \"2018-08-13 08:55:23\", \"price\": 159.9, \"freight_value\": 19.22, \"campaign\": 0, \"campaign_details\": {\"coupon_code\": \"WELCOME10\", \"discount\": 10.0, \"channel\": \"web\"}}], \"campaign_details\": {\"coupon_code\": \"SUMMER20\", \"discount\": 20.0, \"channel\": \"mobile\"}, \"order_status\": \"delivered\"}\n",
      "\n",
      "{\"order_id\": \"949d5b44dbf5de918fe9c16f97b45f8a\", \"order_timestamp\": \"2017-11-18 19:28:06\", \"customer\": {\"customer_id\": \"f88197465ea7920adcdbec7375364d82\", \"city\": \"sao goncalo do amarante\", \"state\": \"RN\"}, \"order_items\": [{\"order_id\": \"949d5b44dbf5de918fe9c16f97b45f8a\", \"order_item_id\": 1, \"product_id\": \"d0b61bfb1de832b15ba9d266ca96e5b0\", \"seller_id\": \"66922902710d126a0e7d26b0e3805106\", \"shipping_limit_date\": \"2017-11-23 19:45:59\", \"price\": 45.0, \"freight_value\": 27.2, \"campaign\": 0, \"campaign_details\": {\"coupon_code\": \"WELCOME10\", \"discount\": 10.0, \"channel\": \"web\"}}], \"campaign_details\": {}, \"order_status\": \"delivered\"}\n",
      "\n",
      "{\"order_id\": \"ad21c59c0840e6cb83a9ceb5573f8159\", \"order_timestamp\": \"2018-02-13 21:18:39\", \"customer\": {\"customer_id\": \"8ab97904e6daea8866dbdbc4fb7aad2c\", \"city\": \"santo andre\", \"state\": \"SP\"}, \"order_items\": [{\"order_id\": \"ad21c59c0840e6cb83a9ceb5573f8159\", \"order_item_id\": 1, \"product_id\": \"65266b2da20d04dbe00c5c2d3bb7859e\", \"seller_id\": \"2c9e548be18521d1c43cde1c582c6de8\", \"shipping_limit_date\": \"2018-02-19 20:31:37\", \"price\": 19.9, \"freight_value\": 8.72, \"campaign\": 0, \"campaign_details\": {\"coupon_code\": \"WELCOME10\", \"discount\": 10.0, \"channel\": \"web\"}}], \"campaign_details\": {}, \"order_status\": \"delivered\"}\n",
      "\n"
     ]
    }
   ],
   "source": [
    "with open(\"olist_bigquery_nested_orders.json\", \"r\", encoding=\"utf-8\") as f:\n",
    "    for i in range(5):  # İlk 5 satırı göster\n",
    "        print(f.readline())"
   ]
  },
  {
   "cell_type": "code",
   "execution_count": 29,
   "id": "3f6192f2-128f-4b04-aa15-9b96c5793277",
   "metadata": {},
   "outputs": [],
   "source": [
    "with open(\"olist_bigquery_nested_orders.json\", \"w\", encoding=\"utf-8\") as f:\n",
    "    for rec in full_data:\n",
    "        f.write(json.dumps(rec) + \"\\n\")  # Her satır bir JSON obje (NDJSON formatı)"
   ]
  },
  {
   "cell_type": "code",
   "execution_count": 30,
   "id": "580f8c64-b463-41ec-b0c9-088aff5a4338",
   "metadata": {},
   "outputs": [
    {
     "ename": "SyntaxError",
     "evalue": "leading zeros in decimal integer literals are not permitted; use an 0o prefix for octal integers (1957183521.py, line 1)",
     "output_type": "error",
     "traceback": [
      "\u001b[1;36m  Cell \u001b[1;32mIn[30], line 1\u001b[1;36m\u001b[0m\n\u001b[1;33m    olist_bigquery_nested_orders.json   |   08/07/2025  3:14 PM   |   JSON File\u001b[0m\n\u001b[1;37m                                            ^\u001b[0m\n\u001b[1;31mSyntaxError\u001b[0m\u001b[1;31m:\u001b[0m leading zeros in decimal integer literals are not permitted; use an 0o prefix for octal integers\n"
     ]
    }
   ],
   "source": []
  },
  {
   "cell_type": "code",
   "execution_count": null,
   "id": "f9073c90-e8ff-4a7d-a487-70b313b25ae2",
   "metadata": {},
   "outputs": [],
   "source": []
  }
 ],
 "metadata": {
  "kernelspec": {
   "display_name": "Python [conda env:base] *",
   "language": "python",
   "name": "conda-base-py"
  },
  "language_info": {
   "codemirror_mode": {
    "name": "ipython",
    "version": 3
   },
   "file_extension": ".py",
   "mimetype": "text/x-python",
   "name": "python",
   "nbconvert_exporter": "python",
   "pygments_lexer": "ipython3",
   "version": "3.12.7"
  }
 },
 "nbformat": 4,
 "nbformat_minor": 5
}
